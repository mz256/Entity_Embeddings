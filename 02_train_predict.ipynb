{
 "cells": [
  {
   "cell_type": "markdown",
   "id": "assisted-fight",
   "metadata": {
    "papermill": {
     "duration": 0.018171,
     "end_time": "2021-07-08T15:22:29.788784",
     "exception": false,
     "start_time": "2021-07-08T15:22:29.770613",
     "status": "completed"
    },
    "tags": []
   },
   "source": [
    "# Random forest with Entity Embeddings: Training the model"
   ]
  },
  {
   "cell_type": "markdown",
   "id": "golden-professional",
   "metadata": {
    "papermill": {
     "duration": 0.01607,
     "end_time": "2021-07-08T15:22:29.821628",
     "exception": false,
     "start_time": "2021-07-08T15:22:29.805558",
     "status": "completed"
    },
    "tags": []
   },
   "source": [
    "We compare the validation set performance of a random forest on two version of the ASHRAE dataset (preprocessed [in Part 1](https://www.kaggle.com/michelezoccali/random-forest-with-embeddings-tutorial-part-1)), differing in the treatment of categorical variables. These are treated:\n",
    "\n",
    "1. with **standard ordinal encoding** (discrete levels), and\n",
    "2. with **Entity Embeddings**, i.e. vectors of continuous values previously learned by a neural net."
   ]
  },
  {
   "cell_type": "code",
   "execution_count": 1,
   "id": "naughty-establishment",
   "metadata": {
    "execution": {
     "iopub.execute_input": "2021-07-08T15:22:29.869274Z",
     "iopub.status.busy": "2021-07-08T15:22:29.864224Z",
     "iopub.status.idle": "2021-07-08T15:22:32.378998Z",
     "shell.execute_reply": "2021-07-08T15:22:32.377660Z",
     "shell.execute_reply.started": "2021-07-08T14:21:43.747688Z"
    },
    "papermill": {
     "duration": 2.54112,
     "end_time": "2021-07-08T15:22:32.379192",
     "exception": false,
     "start_time": "2021-07-08T15:22:29.838072",
     "status": "completed"
    },
    "tags": []
   },
   "outputs": [
    {
     "data": {
      "text/html": [
       "<style type='text/css'>\n",
       ".datatable table.frame { margin-bottom: 0; }\n",
       ".datatable table.frame thead { border-bottom: none; }\n",
       ".datatable table.frame tr.coltypes td {  color: #FFFFFF;  line-height: 6px;  padding: 0 0.5em;}\n",
       ".datatable .bool    { background: #DDDD99; }\n",
       ".datatable .object  { background: #565656; }\n",
       ".datatable .int     { background: #5D9E5D; }\n",
       ".datatable .float   { background: #4040CC; }\n",
       ".datatable .str     { background: #CC4040; }\n",
       ".datatable .row_index {  background: var(--jp-border-color3);  border-right: 1px solid var(--jp-border-color0);  color: var(--jp-ui-font-color3);  font-size: 9px;}\n",
       ".datatable .frame tr.coltypes .row_index {  background: var(--jp-border-color0);}\n",
       ".datatable th:nth-child(2) { padding-left: 12px; }\n",
       ".datatable .hellipsis {  color: var(--jp-cell-editor-border-color);}\n",
       ".datatable .vellipsis {  background: var(--jp-layout-color0);  color: var(--jp-cell-editor-border-color);}\n",
       ".datatable .na {  color: var(--jp-cell-editor-border-color);  font-size: 80%;}\n",
       ".datatable .footer { font-size: 9px; }\n",
       ".datatable .frame_dimensions {  background: var(--jp-border-color3);  border-top: 1px solid var(--jp-border-color0);  color: var(--jp-ui-font-color3);  display: inline-block;  opacity: 0.6;  padding: 1px 10px 1px 5px;}\n",
       "</style>\n"
      ],
      "text/plain": [
       "<IPython.core.display.HTML object>"
      ]
     },
     "metadata": {},
     "output_type": "display_data"
    }
   ],
   "source": [
    "import numpy as np # linear algebra\n",
    "import pandas as pd # data processing, CSV file I/O\n",
    "import os\n",
    "import datetime\n",
    "import warnings\n",
    "import gc\n",
    "\n",
    "from sklearn.metrics import mean_squared_error\n",
    "from sklearn.model_selection import KFold\n",
    "from sklearn.ensemble import RandomForestRegressor\n",
    "import lightgbm as lgb\n",
    "\n",
    "from tqdm.notebook import tqdm\n",
    "\n",
    "# plotting\n",
    "import matplotlib.pyplot as plt\n",
    "import seaborn as sns"
   ]
  },
  {
   "cell_type": "code",
   "execution_count": 2,
   "id": "grateful-parks",
   "metadata": {
    "execution": {
     "iopub.execute_input": "2021-07-08T15:22:32.418947Z",
     "iopub.status.busy": "2021-07-08T15:22:32.417982Z",
     "iopub.status.idle": "2021-07-08T15:22:32.432172Z",
     "shell.execute_reply": "2021-07-08T15:22:32.432700Z",
     "shell.execute_reply.started": "2021-07-08T14:22:22.111672Z"
    },
    "papermill": {
     "duration": 0.036397,
     "end_time": "2021-07-08T15:22:32.432927",
     "exception": false,
     "start_time": "2021-07-08T15:22:32.396530",
     "status": "completed"
    },
    "tags": []
   },
   "outputs": [
    {
     "name": "stdout",
     "output_type": "stream",
     "text": [
      "../input/random-forest-with-embeddings-tutorial-part-1/y_train.feather\n",
      "../input/random-forest-with-embeddings-tutorial-part-1/__results__.html\n",
      "../input/random-forest-with-embeddings-tutorial-part-1/X_embeds.feather\n",
      "../input/random-forest-with-embeddings-tutorial-part-1/X_train.feather\n",
      "../input/random-forest-with-embeddings-tutorial-part-1/__resultx__.html\n",
      "../input/random-forest-with-embeddings-tutorial-part-1/__notebook__.ipynb\n",
      "../input/random-forest-with-embeddings-tutorial-part-1/__output__.json\n",
      "../input/random-forest-with-embeddings-tutorial-part-1/custom.css\n"
     ]
    }
   ],
   "source": [
    "data_path = '../input/random-forest-with-embeddings-tutorial-part-1'\n",
    "\n",
    "for dirname, _, filenames in os.walk(data_path):\n",
    "    for filename in filenames:\n",
    "        print(os.path.join(dirname, filename))"
   ]
  },
  {
   "cell_type": "markdown",
   "id": "swiss-estonia",
   "metadata": {
    "papermill": {
     "duration": 0.016768,
     "end_time": "2021-07-08T15:22:32.467209",
     "exception": false,
     "start_time": "2021-07-08T15:22:32.450441",
     "status": "completed"
    },
    "tags": []
   },
   "source": [
    "# Load data"
   ]
  },
  {
   "cell_type": "code",
   "execution_count": 3,
   "id": "olive-edinburgh",
   "metadata": {
    "execution": {
     "iopub.execute_input": "2021-07-08T15:22:32.506659Z",
     "iopub.status.busy": "2021-07-08T15:22:32.505924Z",
     "iopub.status.idle": "2021-07-08T15:22:35.621319Z",
     "shell.execute_reply": "2021-07-08T15:22:35.621852Z",
     "shell.execute_reply.started": "2021-07-08T14:23:48.279859Z"
    },
    "papermill": {
     "duration": 3.137805,
     "end_time": "2021-07-08T15:22:35.622048",
     "exception": false,
     "start_time": "2021-07-08T15:22:32.484243",
     "status": "completed"
    },
    "tags": []
   },
   "outputs": [],
   "source": [
    "X_train = pd.read_feather(f'{data_path}/X_train.feather')\n",
    "y_train = pd.read_feather(f'{data_path}/y_train.feather').meter_reading"
   ]
  },
  {
   "cell_type": "code",
   "execution_count": 4,
   "id": "acceptable-chest",
   "metadata": {
    "execution": {
     "iopub.execute_input": "2021-07-08T15:22:35.665538Z",
     "iopub.status.busy": "2021-07-08T15:22:35.664601Z",
     "iopub.status.idle": "2021-07-08T15:22:35.669873Z",
     "shell.execute_reply": "2021-07-08T15:22:35.668753Z",
     "shell.execute_reply.started": "2021-07-08T14:23:53.920797Z"
    },
    "papermill": {
     "duration": 0.030791,
     "end_time": "2021-07-08T15:22:35.670151",
     "exception": false,
     "start_time": "2021-07-08T15:22:35.639360",
     "status": "completed"
    },
    "tags": []
   },
   "outputs": [
    {
     "data": {
      "text/plain": [
       "0           3.190624\n",
       "1           0.318163\n",
       "2           0.000000\n",
       "3           5.171529\n",
       "4           4.524668\n",
       "              ...   \n",
       "19869881    2.277267\n",
       "19869882    1.762159\n",
       "19869883    0.000000\n",
       "19869884    5.078761\n",
       "19869885    1.348073\n",
       "Name: meter_reading, Length: 19869886, dtype: float32"
      ]
     },
     "execution_count": 4,
     "metadata": {},
     "output_type": "execute_result"
    }
   ],
   "source": [
    "y_train"
   ]
  },
  {
   "cell_type": "markdown",
   "id": "nervous-kazakhstan",
   "metadata": {
    "papermill": {
     "duration": 0.017851,
     "end_time": "2021-07-08T15:22:35.705933",
     "exception": false,
     "start_time": "2021-07-08T15:22:35.688082",
     "status": "completed"
    },
    "tags": []
   },
   "source": [
    "# Modeling"
   ]
  },
  {
   "cell_type": "markdown",
   "id": "english-linux",
   "metadata": {
    "papermill": {
     "duration": 0.017811,
     "end_time": "2021-07-08T15:22:35.741850",
     "exception": false,
     "start_time": "2021-07-08T15:22:35.724039",
     "status": "completed"
    },
    "tags": []
   },
   "source": [
    "Let us write a small wrapper function for the Random Forest, to be passed to a CV routine."
   ]
  },
  {
   "cell_type": "code",
   "execution_count": 5,
   "id": "quick-import",
   "metadata": {
    "execution": {
     "iopub.execute_input": "2021-07-08T15:22:35.787074Z",
     "iopub.status.busy": "2021-07-08T15:22:35.785757Z",
     "iopub.status.idle": "2021-07-08T15:22:35.788395Z",
     "shell.execute_reply": "2021-07-08T15:22:35.788926Z",
     "shell.execute_reply.started": "2021-07-08T14:23:56.817796Z"
    },
    "papermill": {
     "duration": 0.029322,
     "end_time": "2021-07-08T15:22:35.789137",
     "exception": false,
     "start_time": "2021-07-08T15:22:35.759815",
     "status": "completed"
    },
    "tags": []
   },
   "outputs": [],
   "source": [
    "def RF_wrapper(Xt, yt, Xv, yv, fold=-1):\n",
    "    \n",
    "    model = RandomForestRegressor(n_jobs=-1, n_estimators=40,\n",
    "                              max_samples=200000, max_features=0.5,\n",
    "                              min_samples_leaf=5, oob_score=False).fit(Xt, yt)\n",
    "    print(f'Training fold {fold}...')\n",
    "    \n",
    "    score_train = np.sqrt(mean_squared_error(model.predict(Xt), yt))\n",
    "    oof = model.predict(Xv)\n",
    "    score = np.sqrt(mean_squared_error(oof, yv))\n",
    "    print(f'Fold {fold}: training RMSLE: {score_train},   validation RMSLE: {score}\\n')\n",
    "    return model, oof, score"
   ]
  },
  {
   "cell_type": "markdown",
   "id": "backed-alexander",
   "metadata": {
    "papermill": {
     "duration": 0.017594,
     "end_time": "2021-07-08T15:22:35.824817",
     "exception": false,
     "start_time": "2021-07-08T15:22:35.807223",
     "status": "completed"
    },
    "tags": []
   },
   "source": [
    "Let us perform k-fold CV, without shuffling as this is a time series. An alternative would be to do a single train/validation split, possibly with a gap to mimic training/private split. Otherwise, one could try something like Time-series split CV."
   ]
  },
  {
   "cell_type": "code",
   "execution_count": 6,
   "id": "abandoned-council",
   "metadata": {
    "execution": {
     "iopub.execute_input": "2021-07-08T15:22:35.869957Z",
     "iopub.status.busy": "2021-07-08T15:22:35.869206Z",
     "iopub.status.idle": "2021-07-08T15:22:35.872424Z",
     "shell.execute_reply": "2021-07-08T15:22:35.871906Z",
     "shell.execute_reply.started": "2021-07-08T14:24:03.135422Z"
    },
    "papermill": {
     "duration": 0.029668,
     "end_time": "2021-07-08T15:22:35.872576",
     "exception": false,
     "start_time": "2021-07-08T15:22:35.842908",
     "status": "completed"
    },
    "tags": []
   },
   "outputs": [],
   "source": [
    "def perform_CV(model_wrap, xs, ys, n_splits=3):\n",
    "    \n",
    "    kf = KFold(n_splits=n_splits, shuffle=False)\n",
    "\n",
    "    models = []\n",
    "    scores = []\n",
    "    oof_total = np.zeros(xs.shape[0])\n",
    "\n",
    "\n",
    "    for fold, (train_idx, val_idx) in enumerate(kf.split(xs), start=1):\n",
    "        Xt, yt = xs.iloc[train_idx], ys[train_idx]\n",
    "        Xv, yv = xs.iloc[val_idx], ys[val_idx]\n",
    "        model, oof, score = model_wrap(Xt, yt, Xv, yv, fold)\n",
    "\n",
    "        models.append(model)\n",
    "        scores.append(score)\n",
    "        oof_total[val_idx] = oof\n",
    "\n",
    "    print('Training completed.')\n",
    "    print(f'> Mean RMSLE across folds: {np.mean(scores)}, std: {np.std(scores)}')\n",
    "    print(f'> OOF RMSLE: {np.sqrt(mean_squared_error(ys, oof_total))}')\n",
    "    return models, scores, oof_total"
   ]
  },
  {
   "cell_type": "markdown",
   "id": "matched-disco",
   "metadata": {
    "papermill": {
     "duration": 0.017638,
     "end_time": "2021-07-08T15:22:35.908669",
     "exception": false,
     "start_time": "2021-07-08T15:22:35.891031",
     "status": "completed"
    },
    "tags": []
   },
   "source": [
    "Let's train the random forest **without** embeddings."
   ]
  },
  {
   "cell_type": "code",
   "execution_count": 7,
   "id": "metric-punch",
   "metadata": {
    "execution": {
     "iopub.execute_input": "2021-07-08T15:22:35.953055Z",
     "iopub.status.busy": "2021-07-08T15:22:35.952338Z",
     "iopub.status.idle": "2021-07-08T15:27:19.754727Z",
     "shell.execute_reply": "2021-07-08T15:27:19.755373Z",
     "shell.execute_reply.started": "2021-07-08T14:24:09.137327Z"
    },
    "papermill": {
     "duration": 283.828287,
     "end_time": "2021-07-08T15:27:19.755798",
     "exception": false,
     "start_time": "2021-07-08T15:22:35.927511",
     "status": "completed"
    },
    "tags": []
   },
   "outputs": [
    {
     "name": "stdout",
     "output_type": "stream",
     "text": [
      "Training fold 1...\n",
      "Fold 1: training RMSLE: 0.8641581811323675,   validation RMSLE: 1.135297816894582\n",
      "\n",
      "Training fold 2...\n",
      "Fold 2: training RMSLE: 0.8861530306233435,   validation RMSLE: 1.062795692086431\n",
      "\n",
      "Training fold 3...\n",
      "Fold 3: training RMSLE: 0.8125067434335801,   validation RMSLE: 1.1550053149771922\n",
      "\n",
      "Training completed.\n",
      "> Mean RMSLE across folds: 1.1176996079860684, std: 0.03964783605700621\n",
      "> OOF RMSLE: 1.1184025958985073\n",
      "CPU times: user 16min 11s, sys: 59.5 s, total: 17min 11s\n",
      "Wall time: 4min 43s\n"
     ]
    }
   ],
   "source": [
    "%%time\n",
    "n_splits = 3\n",
    "models, _, _ = perform_CV(RF_wrapper, X_train, y_train, n_splits=n_splits)"
   ]
  },
  {
   "cell_type": "markdown",
   "id": "south-coalition",
   "metadata": {
    "papermill": {
     "duration": 0.019715,
     "end_time": "2021-07-08T15:27:19.795640",
     "exception": false,
     "start_time": "2021-07-08T15:27:19.775925",
     "status": "completed"
    },
    "tags": []
   },
   "source": [
    "Let's see the average feature importance across models. We can use this to retroactively drop further superfluous features during preprocessing."
   ]
  },
  {
   "cell_type": "code",
   "execution_count": 8,
   "id": "threatened-cardiff",
   "metadata": {
    "execution": {
     "iopub.execute_input": "2021-07-08T15:27:19.840260Z",
     "iopub.status.busy": "2021-07-08T15:27:19.839540Z",
     "iopub.status.idle": "2021-07-08T15:27:20.491658Z",
     "shell.execute_reply": "2021-07-08T15:27:20.490784Z",
     "shell.execute_reply.started": "2021-07-08T14:29:32.492885Z"
    },
    "papermill": {
     "duration": 0.676671,
     "end_time": "2021-07-08T15:27:20.491844",
     "exception": false,
     "start_time": "2021-07-08T15:27:19.815173",
     "status": "completed"
    },
    "tags": []
   },
   "outputs": [
    {
     "data": {
      "image/png": "[encoded data removed]",
      "text/plain": [
       "<Figure size 720x504 with 1 Axes>"
      ]
     },
     "metadata": {
      "needs_background": "light"
     },
     "output_type": "display_data"
    }
   ],
   "source": [
    "importance = pd.DataFrame([model.feature_importances_ for model in models],\n",
    "                          columns=X_train.columns,\n",
    "                          index=[f'Fold {i}' for i in range(1, n_splits + 1)])\n",
    "importance = importance.T\n",
    "importance['Average importance'] = importance.mean(axis=1)\n",
    "importance = importance.sort_values(by='Average importance', ascending=False)\n",
    "\n",
    "plt.figure(figsize=(10,7))\n",
    "sns.barplot(x='Average importance', y=importance.index, data=importance);"
   ]
  },
  {
   "cell_type": "code",
   "execution_count": 9,
   "id": "nominated-qatar",
   "metadata": {
    "execution": {
     "iopub.execute_input": "2021-07-08T15:27:20.843817Z",
     "iopub.status.busy": "2021-07-08T15:27:20.843072Z",
     "iopub.status.idle": "2021-07-08T15:27:20.848252Z",
     "shell.execute_reply": "2021-07-08T15:27:20.847679Z",
     "shell.execute_reply.started": "2021-07-08T14:30:26.06427Z"
    },
    "papermill": {
     "duration": 0.335655,
     "end_time": "2021-07-08T15:27:20.848414",
     "exception": false,
     "start_time": "2021-07-08T15:27:20.512759",
     "status": "completed"
    },
    "tags": []
   },
   "outputs": [
    {
     "data": {
      "text/plain": [
       "5311"
      ]
     },
     "execution_count": 9,
     "metadata": {},
     "output_type": "execute_result"
    }
   ],
   "source": [
    "del X_train\n",
    "gc.collect()"
   ]
  },
  {
   "cell_type": "markdown",
   "id": "rocky-format",
   "metadata": {
    "papermill": {
     "duration": 0.022442,
     "end_time": "2021-07-08T15:27:20.892517",
     "exception": false,
     "start_time": "2021-07-08T15:27:20.870075",
     "status": "completed"
    },
    "tags": []
   },
   "source": [
    "Now let's repeat **with** embeddings."
   ]
  },
  {
   "cell_type": "code",
   "execution_count": 10,
   "id": "operating-machine",
   "metadata": {
    "execution": {
     "iopub.execute_input": "2021-07-08T15:27:20.940960Z",
     "iopub.status.busy": "2021-07-08T15:27:20.940266Z",
     "iopub.status.idle": "2021-07-08T15:27:25.730876Z",
     "shell.execute_reply": "2021-07-08T15:27:25.730131Z",
     "shell.execute_reply.started": "2021-07-08T14:30:30.314149Z"
    },
    "papermill": {
     "duration": 4.817069,
     "end_time": "2021-07-08T15:27:25.731041",
     "exception": false,
     "start_time": "2021-07-08T15:27:20.913972",
     "status": "completed"
    },
    "tags": []
   },
   "outputs": [],
   "source": [
    "X_embeds = pd.read_feather(f'{data_path}/X_embeds.feather')"
   ]
  },
  {
   "cell_type": "code",
   "execution_count": 11,
   "id": "emerging-enzyme",
   "metadata": {
    "execution": {
     "iopub.execute_input": "2021-07-08T15:27:25.780097Z",
     "iopub.status.busy": "2021-07-08T15:27:25.779425Z",
     "iopub.status.idle": "2021-07-08T15:35:51.728779Z",
     "shell.execute_reply": "2021-07-08T15:35:51.727961Z",
     "shell.execute_reply.started": "2021-07-08T14:30:37.036493Z"
    },
    "papermill": {
     "duration": 505.976717,
     "end_time": "2021-07-08T15:35:51.729077",
     "exception": false,
     "start_time": "2021-07-08T15:27:25.752360",
     "status": "completed"
    },
    "tags": []
   },
   "outputs": [
    {
     "name": "stdout",
     "output_type": "stream",
     "text": [
      "Training fold 1...\n",
      "Fold 1: training RMSLE: 0.864098563002225,   validation RMSLE: 1.1328671057300983\n",
      "\n",
      "Training fold 2...\n",
      "Fold 2: training RMSLE: 0.890226607799474,   validation RMSLE: 1.0623810522897528\n",
      "\n",
      "Training fold 3...\n",
      "Fold 3: training RMSLE: 0.8116598714628986,   validation RMSLE: 1.146063720532955\n",
      "\n",
      "Training completed.\n",
      "> Mean RMSLE across folds: 1.1137706261842686, std: 0.0367351229693389\n",
      "> OOF RMSLE: 1.1143762735726868\n",
      "CPU times: user 29min 21s, sys: 1min 8s, total: 30min 29s\n",
      "Wall time: 8min 25s\n"
     ]
    }
   ],
   "source": [
    "%%time\n",
    "models_emb, _, _ = perform_CV(RF_wrapper, X_embeds, y_train, n_splits=n_splits)"
   ]
  },
  {
   "cell_type": "code",
   "execution_count": 12,
   "id": "bulgarian-shock",
   "metadata": {
    "execution": {
     "iopub.execute_input": "2021-07-08T15:35:51.785354Z",
     "iopub.status.busy": "2021-07-08T15:35:51.784581Z",
     "iopub.status.idle": "2021-07-08T15:35:52.742375Z",
     "shell.execute_reply": "2021-07-08T15:35:52.742869Z",
     "shell.execute_reply.started": "2021-07-08T14:42:32.356267Z"
    },
    "papermill": {
     "duration": 0.989696,
     "end_time": "2021-07-08T15:35:52.743078",
     "exception": false,
     "start_time": "2021-07-08T15:35:51.753382",
     "status": "completed"
    },
    "tags": []
   },
   "outputs": [
    {
     "data": {
      "image/png": "[encoded data removed]",
      "text/plain": [
       "<Figure size 720x504 with 1 Axes>"
      ]
     },
     "metadata": {
      "needs_background": "light"
     },
     "output_type": "display_data"
    }
   ],
   "source": [
    "importance = pd.DataFrame([model.feature_importances_ for model in models_emb],\n",
    "                          columns=X_embeds.columns,\n",
    "                          index=[f'Fold {i}' for i in range(1, n_splits + 1)])\n",
    "importance = importance.T\n",
    "importance['Average importance'] = importance.mean(axis=1)\n",
    "importance = importance.sort_values(by='Average importance', ascending=False)\n",
    "\n",
    "plt.figure(figsize=(10,7))\n",
    "sns.barplot(x='Average importance', y=importance.index, data=importance);"
   ]
  },
  {
   "cell_type": "code",
   "execution_count": 13,
   "id": "literary-clearance",
   "metadata": {
    "execution": {
     "iopub.execute_input": "2021-07-08T15:35:52.797326Z",
     "iopub.status.busy": "2021-07-08T15:35:52.796668Z",
     "iopub.status.idle": "2021-07-08T15:35:52.953277Z",
     "shell.execute_reply": "2021-07-08T15:35:52.954014Z",
     "shell.execute_reply.started": "2021-07-08T14:43:36.81072Z"
    },
    "papermill": {
     "duration": 0.185539,
     "end_time": "2021-07-08T15:35:52.954281",
     "exception": false,
     "start_time": "2021-07-08T15:35:52.768742",
     "status": "completed"
    },
    "tags": []
   },
   "outputs": [
    {
     "data": {
      "text/plain": [
       "11896"
      ]
     },
     "execution_count": 13,
     "metadata": {},
     "output_type": "execute_result"
    }
   ],
   "source": [
    "del X_embeds, y_train\n",
    "gc.collect()"
   ]
  },
  {
   "cell_type": "markdown",
   "id": "south-species",
   "metadata": {
    "papermill": {
     "duration": 0.025779,
     "end_time": "2021-07-08T15:35:53.010022",
     "exception": false,
     "start_time": "2021-07-08T15:35:52.984243",
     "status": "completed"
    },
    "tags": []
   },
   "source": [
    "So, using these mysterious embeddings actually worked! Even if, in this case, it only helped performance a little (and was quite a bit slower too!). However, it is well worth knowing that this method exists, as in general it leads to much better performance. For more information, check out the paper [Entity Embeddings of Categorical Variables](https://arxiv.org/pdf/1604.06737.pdf).\n",
    "\n",
    "That's it. Do upvote this kernel if you found it of any use! 🖖"
   ]
  }
 ],
 "metadata": {
  "kernelspec": {
   "display_name": "Python 3",
   "language": "python",
   "name": "python3"
  },
  "language_info": {
   "codemirror_mode": {
    "name": "ipython",
    "version": 3
   },
   "file_extension": ".py",
   "mimetype": "text/x-python",
   "name": "python",
   "nbconvert_exporter": "python",
   "pygments_lexer": "ipython3",
   "version": "3.7.10"
  },
  "papermill": {
   "default_parameters": {},
   "duration": 813.309454,
   "end_time": "2021-07-08T15:35:54.449400",
   "environment_variables": {},
   "exception": null,
   "input_path": "__notebook__.ipynb",
   "output_path": "__notebook__.ipynb",
   "parameters": {},
   "start_time": "2021-07-08T15:22:21.139946",
   "version": "2.3.3"
  }
 },
 "nbformat": 4,
 "nbformat_minor": 5
}
