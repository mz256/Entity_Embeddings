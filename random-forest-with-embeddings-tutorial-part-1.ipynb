{
 "cells": [
  {
   "cell_type": "markdown",
   "id": "special-float",
   "metadata": {
    "papermill": {
     "duration": 0.02533,
     "end_time": "2021-07-08T14:14:38.250566",
     "exception": false,
     "start_time": "2021-07-08T14:14:38.225236",
     "status": "completed"
    },
    "tags": []
   },
   "source": [
    "# Random forest with Entity Embeddings: Training set"
   ]
  },
  {
   "cell_type": "markdown",
   "id": "healthy-northern",
   "metadata": {
    "papermill": {
     "duration": 0.019258,
     "end_time": "2021-07-08T14:14:38.292806",
     "exception": false,
     "start_time": "2021-07-08T14:14:38.273548",
     "status": "completed"
    },
    "tags": []
   },
   "source": [
    "This kernel prepares the ASHRAE Energy Prediction dataset for training a Random Forest. It performs the same preprocessing as in [this kernel](https://www.kaggle.com/michelezoccali/ashrae-energy-prediction-single-lgbm), while substituting categorical features with the corresponding embedding vectors previously learned by a NN in https://www.kaggle.com/michelezoccali/ashrae-with-fast-ai-part-2."
   ]
  },
  {
   "cell_type": "code",
   "execution_count": 1,
   "id": "sporting-motor",
   "metadata": {
    "execution": {
     "iopub.execute_input": "2021-07-08T14:14:38.338221Z",
     "iopub.status.busy": "2021-07-08T14:14:38.336445Z",
     "iopub.status.idle": "2021-07-08T14:14:38.346589Z",
     "shell.execute_reply": "2021-07-08T14:14:38.347158Z",
     "shell.execute_reply.started": "2021-07-08T13:17:21.994470Z"
    },
    "papermill": {
     "duration": 0.03509,
     "end_time": "2021-07-08T14:14:38.347458",
     "exception": false,
     "start_time": "2021-07-08T14:14:38.312368",
     "status": "completed"
    },
    "tags": []
   },
   "outputs": [],
   "source": [
    "import numpy as np # linear algebra\n",
    "import pandas as pd # data processing, CSV file I/O\n",
    "import os\n",
    "import datetime\n",
    "import gc"
   ]
  },
  {
   "cell_type": "code",
   "execution_count": 2,
   "id": "cathedral-forge",
   "metadata": {
    "execution": {
     "iopub.execute_input": "2021-07-08T14:14:38.392373Z",
     "iopub.status.busy": "2021-07-08T14:14:38.391425Z",
     "iopub.status.idle": "2021-07-08T14:14:38.396709Z",
     "shell.execute_reply": "2021-07-08T14:14:38.397240Z",
     "shell.execute_reply.started": "2021-07-08T13:17:22.009367Z"
    },
    "papermill": {
     "duration": 0.030301,
     "end_time": "2021-07-08T14:14:38.397414",
     "exception": false,
     "start_time": "2021-07-08T14:14:38.367113",
     "status": "completed"
    },
    "tags": []
   },
   "outputs": [
    {
     "name": "stdout",
     "output_type": "stream",
     "text": [
      "../input/ashrae-energy-prediction/sample_submission.csv\n",
      "../input/ashrae-energy-prediction/building_metadata.csv\n",
      "../input/ashrae-energy-prediction/weather_train.csv\n",
      "../input/ashrae-energy-prediction/weather_test.csv\n",
      "../input/ashrae-energy-prediction/train.csv\n",
      "../input/ashrae-energy-prediction/test.csv\n"
     ]
    }
   ],
   "source": [
    "path = '../input/ashrae-energy-prediction'\n",
    "\n",
    "for dirname, _, filenames in os.walk(path):\n",
    "    for filename in filenames:\n",
    "        print(os.path.join(dirname, filename))"
   ]
  },
  {
   "cell_type": "markdown",
   "id": "pointed-detail",
   "metadata": {
    "papermill": {
     "duration": 0.019603,
     "end_time": "2021-07-08T14:14:38.437589",
     "exception": false,
     "start_time": "2021-07-08T14:14:38.417986",
     "status": "completed"
    },
    "tags": []
   },
   "source": [
    "# Utilities"
   ]
  },
  {
   "cell_type": "markdown",
   "id": "australian-vancouver",
   "metadata": {
    "papermill": {
     "duration": 0.019558,
     "end_time": "2021-07-08T14:14:38.477496",
     "exception": false,
     "start_time": "2021-07-08T14:14:38.457938",
     "status": "completed"
    },
    "tags": []
   },
   "source": [
    "Memory reduction adapted from [this kernel.](https://www.kaggle.com/purist1024/ashrae-simple-data-cleanup-lb-1-08-no-leaks/notebook)"
   ]
  },
  {
   "cell_type": "code",
   "execution_count": 3,
   "id": "average-revision",
   "metadata": {
    "execution": {
     "iopub.execute_input": "2021-07-08T14:14:38.525663Z",
     "iopub.status.busy": "2021-07-08T14:14:38.524977Z",
     "iopub.status.idle": "2021-07-08T14:14:38.528156Z",
     "shell.execute_reply": "2021-07-08T14:14:38.527625Z",
     "shell.execute_reply.started": "2021-07-08T13:17:22.036582Z"
    },
    "papermill": {
     "duration": 0.030931,
     "end_time": "2021-07-08T14:14:38.528302",
     "exception": false,
     "start_time": "2021-07-08T14:14:38.497371",
     "status": "completed"
    },
    "tags": []
   },
   "outputs": [],
   "source": [
    "def reduce_mem(df):\n",
    "    result = df.copy()\n",
    "    for col in result.columns:\n",
    "        col_data = result[col]\n",
    "        dn = col_data.dtype.name\n",
    "        if not dn.startswith(\"datetime\"):\n",
    "            if dn == \"object\":  # only object feature has low cardinality\n",
    "                result[col] = pd.to_numeric(col_data.astype(\"category\").cat.codes, downcast=\"unsigned\")\n",
    "            elif dn.startswith(\"int\") | dn.startswith(\"uint\"):\n",
    "                if col_data.min() >= 0:\n",
    "                    result[col] = pd.to_numeric(col_data, downcast=\"unsigned\")\n",
    "                else:\n",
    "                    result[col] = pd.to_numeric(col_data, downcast='integer')\n",
    "            else:\n",
    "                result[col] = pd.to_numeric(col_data, downcast='float')\n",
    "    return result"
   ]
  },
  {
   "cell_type": "markdown",
   "id": "floral-seeker",
   "metadata": {
    "papermill": {
     "duration": 0.019948,
     "end_time": "2021-07-08T14:14:38.568868",
     "exception": false,
     "start_time": "2021-07-08T14:14:38.548920",
     "status": "completed"
    },
    "tags": []
   },
   "source": [
    "Routine to add lag features to weather dataset, adapted from [this kernel](https://www.kaggle.com/corochann/ashrae-training-lgbm-by-meter-type/notebook)."
   ]
  },
  {
   "cell_type": "code",
   "execution_count": 4,
   "id": "independent-archive",
   "metadata": {
    "execution": {
     "iopub.execute_input": "2021-07-08T14:14:38.612996Z",
     "iopub.status.busy": "2021-07-08T14:14:38.612347Z",
     "iopub.status.idle": "2021-07-08T14:14:38.619871Z",
     "shell.execute_reply": "2021-07-08T14:14:38.619309Z",
     "shell.execute_reply.started": "2021-07-08T13:17:22.048868Z"
    },
    "papermill": {
     "duration": 0.030548,
     "end_time": "2021-07-08T14:14:38.620021",
     "exception": false,
     "start_time": "2021-07-08T14:14:38.589473",
     "status": "completed"
    },
    "tags": []
   },
   "outputs": [],
   "source": [
    "def add_lag_features(weather_df, window=3):\n",
    "    group_df = weather_df.groupby('site_id')\n",
    "    cols = ['air_temperature', 'cloud_coverage', 'dew_temperature', 'precip_depth_1_hr']\n",
    "    rolled = group_df[cols].rolling(window=window, min_periods=0)\n",
    "    lag_mean = rolled.mean().reset_index().astype(np.float16)\n",
    "    lag_max = rolled.max().reset_index().astype(np.float16)\n",
    "    lag_min = rolled.min().reset_index().astype(np.float16)\n",
    "    for col in cols:\n",
    "        weather_df[f'{col}_min_lag{window}'] = lag_min[col]\n",
    "        weather_df[f'{col}_mean_lag{window}'] = lag_mean[col]\n",
    "        weather_df[f'{col}_max_lag{window}'] = lag_max[col]\n",
    "    return weather_df"
   ]
  },
  {
   "cell_type": "markdown",
   "id": "mighty-cedar",
   "metadata": {
    "papermill": {
     "duration": 0.019785,
     "end_time": "2021-07-08T14:14:38.660098",
     "exception": false,
     "start_time": "2021-07-08T14:14:38.640313",
     "status": "completed"
    },
    "tags": []
   },
   "source": [
    "# Load data"
   ]
  },
  {
   "cell_type": "code",
   "execution_count": 5,
   "id": "bronze-buddy",
   "metadata": {
    "execution": {
     "iopub.execute_input": "2021-07-08T14:14:38.717596Z",
     "iopub.status.busy": "2021-07-08T14:14:38.716937Z",
     "iopub.status.idle": "2021-07-08T14:14:38.719793Z",
     "shell.execute_reply": "2021-07-08T14:14:38.719289Z",
     "shell.execute_reply.started": "2021-07-08T13:17:22.067048Z"
    },
    "papermill": {
     "duration": 0.039352,
     "end_time": "2021-07-08T14:14:38.719948",
     "exception": false,
     "start_time": "2021-07-08T14:14:38.680596",
     "status": "completed"
    },
    "tags": []
   },
   "outputs": [],
   "source": [
    "def load_data(source='train'):\n",
    "    assert source in ['train','test']\n",
    "    df = pd.read_csv(f'{path}/{source}.csv', parse_dates=['timestamp'])\n",
    "    return reduce_mem(df)\n",
    "\n",
    "def load_building():\n",
    "    df = pd.read_csv(f'{path}/building_metadata.csv').fillna(-1)\n",
    "    return reduce_mem(df)\n",
    "\n",
    "def load_weather(source='train', fix_timezone=True, impute=True, add_lag=True):\n",
    "    assert source in ['train','test']\n",
    "    df = pd.read_csv(f'{path}/weather_{source}.csv', parse_dates=['timestamp'])\n",
    "    if fix_timezone:\n",
    "        offsets = [5,0,9,6,8,0,6,6,5,7,8,6,0,7,6,6]\n",
    "        offset_map = {site: offset for site, offset in enumerate(offsets)}\n",
    "        df.timestamp = df.timestamp - pd.to_timedelta(df.site_id.map(offset_map), unit='h')\n",
    "    if impute:\n",
    "        site_dfs = []\n",
    "        for site in df.site_id.unique():\n",
    "            if source == 'train':\n",
    "                new_idx = pd.date_range(start='2016-1-1', end='2016-12-31-23', freq='H')\n",
    "            else:\n",
    "                new_idx = pd.date_range(start='2017-1-1', end='2018-12-31-23', freq='H')\n",
    "            site_df = df[df.site_id == site].set_index('timestamp').reindex(new_idx)\n",
    "            site_df.site_id = site\n",
    "            for col in [c for c in site_df.columns if c != 'site_id']:\n",
    "                site_df[col] = site_df[col].interpolate(limit_direction='both', method='linear')\n",
    "                site_df[col] = site_df[col].fillna(df[col].median())\n",
    "            site_dfs.append(site_df)\n",
    "        df = pd.concat(site_dfs)\n",
    "        df['timestamp'] = df.index\n",
    "        df = df.reset_index(drop=True)\n",
    "        \n",
    "    if add_lag:\n",
    "        df = add_lag_features(df, window=3)\n",
    "    \n",
    "    return reduce_mem(df)\n",
    "\n",
    "def merged_dfs(source='train', fix_timezone=True, impute=True, add_lag=True):\n",
    "    df = load_data(source=source).merge(load_building(), on='building_id', how='left')\n",
    "    df = df.merge(load_weather(source=source, fix_timezone=fix_timezone, impute=impute, add_lag=add_lag),\n",
    "                 on=['site_id','timestamp'], how='left')\n",
    "    if source == 'train':\n",
    "        X = df.drop('meter_reading', axis=1)  \n",
    "        y = np.log1p(df.meter_reading)  # log-transform of target\n",
    "        return X, y\n",
    "    elif source == 'test':\n",
    "        return df"
   ]
  },
  {
   "cell_type": "code",
   "execution_count": 6,
   "id": "formed-reasoning",
   "metadata": {
    "execution": {
     "iopub.execute_input": "2021-07-08T14:14:38.765439Z",
     "iopub.status.busy": "2021-07-08T14:14:38.764720Z",
     "iopub.status.idle": "2021-07-08T14:15:09.805455Z",
     "shell.execute_reply": "2021-07-08T14:15:09.804675Z",
     "shell.execute_reply.started": "2021-07-08T13:17:22.089869Z"
    },
    "papermill": {
     "duration": 31.065605,
     "end_time": "2021-07-08T14:15:09.805632",
     "exception": false,
     "start_time": "2021-07-08T14:14:38.740027",
     "status": "completed"
    },
    "tags": []
   },
   "outputs": [
    {
     "name": "stdout",
     "output_type": "stream",
     "text": [
      "CPU times: user 21.3 s, sys: 4.39 s, total: 25.7 s\n",
      "Wall time: 31 s\n"
     ]
    },
    {
     "data": {
      "text/html": [
       "<div>\n",
       "<style scoped>\n",
       "    .dataframe tbody tr th:only-of-type {\n",
       "        vertical-align: middle;\n",
       "    }\n",
       "\n",
       "    .dataframe tbody tr th {\n",
       "        vertical-align: top;\n",
       "    }\n",
       "\n",
       "    .dataframe thead th {\n",
       "        text-align: right;\n",
       "    }\n",
       "</style>\n",
       "<table border=\"1\" class=\"dataframe\">\n",
       "  <thead>\n",
       "    <tr style=\"text-align: right;\">\n",
       "      <th></th>\n",
       "      <th>building_id</th>\n",
       "      <th>meter</th>\n",
       "      <th>timestamp</th>\n",
       "      <th>site_id</th>\n",
       "      <th>primary_use</th>\n",
       "      <th>square_feet</th>\n",
       "      <th>year_built</th>\n",
       "      <th>floor_count</th>\n",
       "      <th>air_temperature</th>\n",
       "      <th>cloud_coverage</th>\n",
       "      <th>dew_temperature</th>\n",
       "      <th>precip_depth_1_hr</th>\n",
       "      <th>sea_level_pressure</th>\n",
       "      <th>wind_direction</th>\n",
       "      <th>wind_speed</th>\n",
       "    </tr>\n",
       "  </thead>\n",
       "  <tbody>\n",
       "    <tr>\n",
       "      <th>0</th>\n",
       "      <td>0</td>\n",
       "      <td>0</td>\n",
       "      <td>2016-01-01</td>\n",
       "      <td>0</td>\n",
       "      <td>0</td>\n",
       "      <td>7432</td>\n",
       "      <td>2008.0</td>\n",
       "      <td>-1.0</td>\n",
       "      <td>19.4</td>\n",
       "      <td>6.0</td>\n",
       "      <td>19.4</td>\n",
       "      <td>0.0</td>\n",
       "      <td>1019.400024</td>\n",
       "      <td>0.0</td>\n",
       "      <td>0.0</td>\n",
       "    </tr>\n",
       "    <tr>\n",
       "      <th>1</th>\n",
       "      <td>1</td>\n",
       "      <td>0</td>\n",
       "      <td>2016-01-01</td>\n",
       "      <td>0</td>\n",
       "      <td>0</td>\n",
       "      <td>2720</td>\n",
       "      <td>2004.0</td>\n",
       "      <td>-1.0</td>\n",
       "      <td>19.4</td>\n",
       "      <td>6.0</td>\n",
       "      <td>19.4</td>\n",
       "      <td>0.0</td>\n",
       "      <td>1019.400024</td>\n",
       "      <td>0.0</td>\n",
       "      <td>0.0</td>\n",
       "    </tr>\n",
       "    <tr>\n",
       "      <th>2</th>\n",
       "      <td>2</td>\n",
       "      <td>0</td>\n",
       "      <td>2016-01-01</td>\n",
       "      <td>0</td>\n",
       "      <td>0</td>\n",
       "      <td>5376</td>\n",
       "      <td>1991.0</td>\n",
       "      <td>-1.0</td>\n",
       "      <td>19.4</td>\n",
       "      <td>6.0</td>\n",
       "      <td>19.4</td>\n",
       "      <td>0.0</td>\n",
       "      <td>1019.400024</td>\n",
       "      <td>0.0</td>\n",
       "      <td>0.0</td>\n",
       "    </tr>\n",
       "    <tr>\n",
       "      <th>3</th>\n",
       "      <td>3</td>\n",
       "      <td>0</td>\n",
       "      <td>2016-01-01</td>\n",
       "      <td>0</td>\n",
       "      <td>0</td>\n",
       "      <td>23685</td>\n",
       "      <td>2002.0</td>\n",
       "      <td>-1.0</td>\n",
       "      <td>19.4</td>\n",
       "      <td>6.0</td>\n",
       "      <td>19.4</td>\n",
       "      <td>0.0</td>\n",
       "      <td>1019.400024</td>\n",
       "      <td>0.0</td>\n",
       "      <td>0.0</td>\n",
       "    </tr>\n",
       "    <tr>\n",
       "      <th>4</th>\n",
       "      <td>4</td>\n",
       "      <td>0</td>\n",
       "      <td>2016-01-01</td>\n",
       "      <td>0</td>\n",
       "      <td>0</td>\n",
       "      <td>116607</td>\n",
       "      <td>1975.0</td>\n",
       "      <td>-1.0</td>\n",
       "      <td>19.4</td>\n",
       "      <td>6.0</td>\n",
       "      <td>19.4</td>\n",
       "      <td>0.0</td>\n",
       "      <td>1019.400024</td>\n",
       "      <td>0.0</td>\n",
       "      <td>0.0</td>\n",
       "    </tr>\n",
       "  </tbody>\n",
       "</table>\n",
       "</div>"
      ],
      "text/plain": [
       "   building_id  meter  timestamp  site_id  primary_use  square_feet  \\\n",
       "0            0      0 2016-01-01        0            0         7432   \n",
       "1            1      0 2016-01-01        0            0         2720   \n",
       "2            2      0 2016-01-01        0            0         5376   \n",
       "3            3      0 2016-01-01        0            0        23685   \n",
       "4            4      0 2016-01-01        0            0       116607   \n",
       "\n",
       "   year_built  floor_count  air_temperature  cloud_coverage  dew_temperature  \\\n",
       "0      2008.0         -1.0             19.4             6.0             19.4   \n",
       "1      2004.0         -1.0             19.4             6.0             19.4   \n",
       "2      1991.0         -1.0             19.4             6.0             19.4   \n",
       "3      2002.0         -1.0             19.4             6.0             19.4   \n",
       "4      1975.0         -1.0             19.4             6.0             19.4   \n",
       "\n",
       "   precip_depth_1_hr  sea_level_pressure  wind_direction  wind_speed  \n",
       "0                0.0         1019.400024             0.0         0.0  \n",
       "1                0.0         1019.400024             0.0         0.0  \n",
       "2                0.0         1019.400024             0.0         0.0  \n",
       "3                0.0         1019.400024             0.0         0.0  \n",
       "4                0.0         1019.400024             0.0         0.0  "
      ]
     },
     "execution_count": 6,
     "metadata": {},
     "output_type": "execute_result"
    }
   ],
   "source": [
    "%%time\n",
    "X_train, y_train = merged_dfs(add_lag=False)\n",
    "X_train.head()"
   ]
  },
  {
   "cell_type": "markdown",
   "id": "pacific-wagner",
   "metadata": {
    "papermill": {
     "duration": 0.02067,
     "end_time": "2021-07-08T14:15:09.847627",
     "exception": false,
     "start_time": "2021-07-08T14:15:09.826957",
     "status": "completed"
    },
    "tags": []
   },
   "source": [
    "# Outlier removal and basic FE"
   ]
  },
  {
   "cell_type": "markdown",
   "id": "identified-argentina",
   "metadata": {
    "papermill": {
     "duration": 0.020445,
     "end_time": "2021-07-08T14:15:09.889478",
     "exception": false,
     "start_time": "2021-07-08T14:15:09.869033",
     "status": "completed"
    },
    "tags": []
   },
   "source": [
    "Let us remove the first 141 days of electrical meter readings at site 0, which are mostly zero or contain anomalous spikes. This is the type of outlier which causes the most trouble and is comparatively easier to remove. We also extract some basic temporal features."
   ]
  },
  {
   "cell_type": "code",
   "execution_count": 7,
   "id": "emotional-qatar",
   "metadata": {
    "execution": {
     "iopub.execute_input": "2021-07-08T14:15:09.937911Z",
     "iopub.status.busy": "2021-07-08T14:15:09.937301Z",
     "iopub.status.idle": "2021-07-08T14:15:09.940009Z",
     "shell.execute_reply": "2021-07-08T14:15:09.940475Z",
     "shell.execute_reply.started": "2021-07-08T13:17:58.387975Z"
    },
    "papermill": {
     "duration": 0.030206,
     "end_time": "2021-07-08T14:15:09.940641",
     "exception": false,
     "start_time": "2021-07-08T14:15:09.910435",
     "status": "completed"
    },
    "tags": []
   },
   "outputs": [],
   "source": [
    "def _delete_bad_sitezero(X, y):\n",
    "    cond = (X.timestamp > '2016-05-20') | (X.site_id != 0) | (X.meter != 0)\n",
    "    X = X[cond]\n",
    "    y = y.reindex_like(X)\n",
    "    return X.reset_index(drop=True), y.reset_index(drop=True)\n",
    "\n",
    "def _extract_temporal(X):\n",
    "    X['hour'] = X.timestamp.dt.hour\n",
    "    X['weekday'] = X.timestamp.dt.weekday\n",
    "    # month and year cause overfit, could try other (holiday, business, etc.)\n",
    "    return reduce_mem(X)"
   ]
  },
  {
   "cell_type": "code",
   "execution_count": 8,
   "id": "environmental-gibson",
   "metadata": {
    "execution": {
     "iopub.execute_input": "2021-07-08T14:15:09.989741Z",
     "iopub.status.busy": "2021-07-08T14:15:09.989112Z",
     "iopub.status.idle": "2021-07-08T14:15:22.365464Z",
     "shell.execute_reply": "2021-07-08T14:15:22.364742Z",
     "shell.execute_reply.started": "2021-07-08T13:17:58.399113Z"
    },
    "papermill": {
     "duration": 12.402913,
     "end_time": "2021-07-08T14:15:22.365615",
     "exception": false,
     "start_time": "2021-07-08T14:15:09.962702",
     "status": "completed"
    },
    "tags": []
   },
   "outputs": [
    {
     "data": {
      "text/plain": [
       "57"
      ]
     },
     "execution_count": 8,
     "metadata": {},
     "output_type": "execute_result"
    }
   ],
   "source": [
    "# preprocessing\n",
    "X_train, y_train = _delete_bad_sitezero(X_train, y_train)\n",
    "X_train = _extract_temporal(X_train)\n",
    "\n",
    "# remove timestamp and other unimportant features\n",
    "to_drop = ['timestamp','sea_level_pressure','wind_direction','wind_speed']\n",
    "X_train.drop(to_drop, axis=1, inplace=True)\n",
    "\n",
    "gc.collect()"
   ]
  },
  {
   "cell_type": "code",
   "execution_count": 9,
   "id": "isolated-oregon",
   "metadata": {
    "execution": {
     "iopub.execute_input": "2021-07-08T14:15:22.423355Z",
     "iopub.status.busy": "2021-07-08T14:15:22.422669Z",
     "iopub.status.idle": "2021-07-08T14:15:22.426658Z",
     "shell.execute_reply": "2021-07-08T14:15:22.425910Z",
     "shell.execute_reply.started": "2021-07-08T13:18:12.232852Z"
    },
    "papermill": {
     "duration": 0.039773,
     "end_time": "2021-07-08T14:15:22.426868",
     "exception": false,
     "start_time": "2021-07-08T14:15:22.387095",
     "status": "completed"
    },
    "tags": []
   },
   "outputs": [
    {
     "name": "stdout",
     "output_type": "stream",
     "text": [
      "<class 'pandas.core.frame.DataFrame'>\n",
      "RangeIndex: 19869886 entries, 0 to 19869885\n",
      "Data columns (total 13 columns):\n",
      " #   Column             Dtype  \n",
      "---  ------             -----  \n",
      " 0   building_id        uint16 \n",
      " 1   meter              uint8  \n",
      " 2   site_id            uint8  \n",
      " 3   primary_use        uint8  \n",
      " 4   square_feet        uint32 \n",
      " 5   year_built         float32\n",
      " 6   floor_count        float32\n",
      " 7   air_temperature    float32\n",
      " 8   cloud_coverage     float32\n",
      " 9   dew_temperature    float32\n",
      " 10  precip_depth_1_hr  float32\n",
      " 11  hour               uint8  \n",
      " 12  weekday            uint8  \n",
      "dtypes: float32(6), uint16(1), uint32(1), uint8(5)\n",
      "memory usage: 663.2 MB\n"
     ]
    }
   ],
   "source": [
    "X_train.info()"
   ]
  },
  {
   "cell_type": "markdown",
   "id": "daily-rings",
   "metadata": {
    "papermill": {
     "duration": 0.021382,
     "end_time": "2021-07-08T14:15:22.471299",
     "exception": false,
     "start_time": "2021-07-08T14:15:22.449917",
     "status": "completed"
    },
    "tags": []
   },
   "source": [
    "Save target and training set without embeddings."
   ]
  },
  {
   "cell_type": "code",
   "execution_count": 10,
   "id": "level-trainer",
   "metadata": {
    "execution": {
     "iopub.execute_input": "2021-07-08T14:15:22.520117Z",
     "iopub.status.busy": "2021-07-08T14:15:22.519448Z",
     "iopub.status.idle": "2021-07-08T14:15:22.554494Z",
     "shell.execute_reply": "2021-07-08T14:15:22.553878Z",
     "shell.execute_reply.started": "2021-07-08T13:18:12.253524Z"
    },
    "papermill": {
     "duration": 0.061365,
     "end_time": "2021-07-08T14:15:22.554655",
     "exception": false,
     "start_time": "2021-07-08T14:15:22.493290",
     "status": "completed"
    },
    "tags": []
   },
   "outputs": [],
   "source": [
    "y_train = y_train.to_frame()"
   ]
  },
  {
   "cell_type": "code",
   "execution_count": 11,
   "id": "signal-velvet",
   "metadata": {
    "execution": {
     "iopub.execute_input": "2021-07-08T14:15:22.603536Z",
     "iopub.status.busy": "2021-07-08T14:15:22.602793Z",
     "iopub.status.idle": "2021-07-08T14:15:23.544769Z",
     "shell.execute_reply": "2021-07-08T14:15:23.544172Z",
     "shell.execute_reply.started": "2021-07-08T13:18:12.291489Z"
    },
    "papermill": {
     "duration": 0.968353,
     "end_time": "2021-07-08T14:15:23.544928",
     "exception": false,
     "start_time": "2021-07-08T14:15:22.576575",
     "status": "completed"
    },
    "tags": []
   },
   "outputs": [],
   "source": [
    "X_train.to_feather('X_train.feather')\n",
    "y_train.to_feather('y_train.feather')"
   ]
  },
  {
   "cell_type": "markdown",
   "id": "empirical-ticket",
   "metadata": {
    "papermill": {
     "duration": 0.021402,
     "end_time": "2021-07-08T14:15:23.588126",
     "exception": false,
     "start_time": "2021-07-08T14:15:23.566724",
     "status": "completed"
    },
    "tags": []
   },
   "source": [
    "# Concatenate embedding vectors"
   ]
  },
  {
   "cell_type": "markdown",
   "id": "executed-arrival",
   "metadata": {
    "papermill": {
     "duration": 0.02127,
     "end_time": "2021-07-08T14:15:23.631278",
     "exception": false,
     "start_time": "2021-07-08T14:15:23.610008",
     "status": "completed"
    },
    "tags": []
   },
   "source": [
    "Now let us load the categorical embeddings learned with a NN [here](https://www.kaggle.com/michelezoccali/ashrae-with-fast-ai-part-2). \n",
    "\n",
    "This step is more easily performed on the GPU, where the original model was trained. It is sometimes necessary to perform this step on the CPU, however, so let us see here the simples changes required."
   ]
  },
  {
   "cell_type": "code",
   "execution_count": 12,
   "id": "unlikely-affiliate",
   "metadata": {
    "execution": {
     "iopub.execute_input": "2021-07-08T14:15:23.677463Z",
     "iopub.status.busy": "2021-07-08T14:15:23.676857Z",
     "iopub.status.idle": "2021-07-08T14:15:45.040401Z",
     "shell.execute_reply": "2021-07-08T14:15:45.039773Z",
     "shell.execute_reply.started": "2021-07-08T13:18:13.220286Z"
    },
    "papermill": {
     "duration": 21.387693,
     "end_time": "2021-07-08T14:15:45.040539",
     "exception": false,
     "start_time": "2021-07-08T14:15:23.652846",
     "status": "completed"
    },
    "tags": []
   },
   "outputs": [],
   "source": [
    "import pickle\n",
    "from fastai.tabular.all import *\n",
    "\n",
    "# Subclass the Unpickler to load cuda model on CPU\n",
    "class CPU_Unpickler(pickle.Unpickler):\n",
    "    def find_class(self, module, name):\n",
    "        if module == 'torch.storage' and name == '_load_from_bytes':\n",
    "            return lambda b: torch.load(io.BytesIO(b), map_location='cpu')\n",
    "        else: return super().find_class(module, name)\n",
    "\n",
    "with open('../input/ashrae-with-fast-ai-part-2/tabular_nn.pickle', mode='rb') as f:\n",
    "    #learn = pickle.load(f) becomes...\n",
    "    learn = CPU_Unpickler(f).load()"
   ]
  },
  {
   "cell_type": "code",
   "execution_count": 13,
   "id": "forty-rouge",
   "metadata": {
    "execution": {
     "iopub.execute_input": "2021-07-08T14:15:45.087733Z",
     "iopub.status.busy": "2021-07-08T14:15:45.087099Z",
     "iopub.status.idle": "2021-07-08T14:15:45.095158Z",
     "shell.execute_reply": "2021-07-08T14:15:45.094430Z",
     "shell.execute_reply.started": "2021-07-08T13:18:38.704246Z"
    },
    "papermill": {
     "duration": 0.032905,
     "end_time": "2021-07-08T14:15:45.095306",
     "exception": false,
     "start_time": "2021-07-08T14:15:45.062401",
     "status": "completed"
    },
    "tags": []
   },
   "outputs": [],
   "source": [
    "cat_features = ['meter','site_id','primary_use','hour','weekday']\n",
    "\n",
    "def add_embeds(learn, x):\n",
    "    x = x.copy()\n",
    "    for i, cat in enumerate(cat_features):\n",
    "        emb = learn.embeds[i]\n",
    "        vec = tensor(x[cat], dtype=torch.int64) # this is on cpu\n",
    "        emb_data = emb(vec)\n",
    "        emb_names = [f'{cat}_{j}' for j in range(emb_data.shape[1])]\n",
    "        \n",
    "        emb_df = pd.DataFrame(emb_data, index=x.index, columns=emb_names)\n",
    "        x = x.drop(columns=cat)\n",
    "        x = x.join(emb_df)\n",
    "    return x"
   ]
  },
  {
   "cell_type": "code",
   "execution_count": 14,
   "id": "persistent-quick",
   "metadata": {
    "execution": {
     "iopub.execute_input": "2021-07-08T14:15:45.144635Z",
     "iopub.status.busy": "2021-07-08T14:15:45.144001Z",
     "iopub.status.idle": "2021-07-08T14:16:05.037678Z",
     "shell.execute_reply": "2021-07-08T14:16:05.036976Z",
     "shell.execute_reply.started": "2021-07-08T13:18:38.714633Z"
    },
    "papermill": {
     "duration": 19.920228,
     "end_time": "2021-07-08T14:16:05.037860",
     "exception": false,
     "start_time": "2021-07-08T14:15:45.117632",
     "status": "completed"
    },
    "tags": []
   },
   "outputs": [
    {
     "data": {
      "text/plain": [
       "40"
      ]
     },
     "execution_count": 14,
     "metadata": {},
     "output_type": "execute_result"
    }
   ],
   "source": [
    "X_train = add_embeds(learn, X_train)\n",
    "gc.collect()"
   ]
  },
  {
   "cell_type": "code",
   "execution_count": 15,
   "id": "developing-concentration",
   "metadata": {
    "execution": {
     "iopub.execute_input": "2021-07-08T14:16:05.097263Z",
     "iopub.status.busy": "2021-07-08T14:16:05.096596Z",
     "iopub.status.idle": "2021-07-08T14:16:05.101634Z",
     "shell.execute_reply": "2021-07-08T14:16:05.102138Z",
     "shell.execute_reply.started": "2021-07-08T13:18:59.436564Z"
    },
    "papermill": {
     "duration": 0.042612,
     "end_time": "2021-07-08T14:16:05.102337",
     "exception": false,
     "start_time": "2021-07-08T14:16:05.059725",
     "status": "completed"
    },
    "tags": []
   },
   "outputs": [
    {
     "name": "stdout",
     "output_type": "stream",
     "text": [
      "<class 'pandas.core.frame.DataFrame'>\n",
      "RangeIndex: 19869886 entries, 0 to 19869885\n",
      "Data columns (total 43 columns):\n",
      " #   Column             Dtype  \n",
      "---  ------             -----  \n",
      " 0   building_id        uint16 \n",
      " 1   square_feet        uint32 \n",
      " 2   year_built         float32\n",
      " 3   floor_count        float32\n",
      " 4   air_temperature    float32\n",
      " 5   cloud_coverage     float32\n",
      " 6   dew_temperature    float32\n",
      " 7   precip_depth_1_hr  float32\n",
      " 8   meter_0            float32\n",
      " 9   meter_1            float32\n",
      " 10  meter_2            float32\n",
      " 11  meter_3            float32\n",
      " 12  site_id_0          float32\n",
      " 13  site_id_1          float32\n",
      " 14  site_id_2          float32\n",
      " 15  site_id_3          float32\n",
      " 16  site_id_4          float32\n",
      " 17  site_id_5          float32\n",
      " 18  site_id_6          float32\n",
      " 19  site_id_7          float32\n",
      " 20  primary_use_0      float32\n",
      " 21  primary_use_1      float32\n",
      " 22  primary_use_2      float32\n",
      " 23  primary_use_3      float32\n",
      " 24  primary_use_4      float32\n",
      " 25  primary_use_5      float32\n",
      " 26  primary_use_6      float32\n",
      " 27  primary_use_7      float32\n",
      " 28  hour_0             float32\n",
      " 29  hour_1             float32\n",
      " 30  hour_2             float32\n",
      " 31  hour_3             float32\n",
      " 32  hour_4             float32\n",
      " 33  hour_5             float32\n",
      " 34  hour_6             float32\n",
      " 35  hour_7             float32\n",
      " 36  hour_8             float32\n",
      " 37  hour_9             float32\n",
      " 38  weekday_0          float32\n",
      " 39  weekday_1          float32\n",
      " 40  weekday_2          float32\n",
      " 41  weekday_3          float32\n",
      " 42  weekday_4          float32\n",
      "dtypes: float32(41), uint16(1), uint32(1)\n",
      "memory usage: 3.1 GB\n"
     ]
    }
   ],
   "source": [
    "X_train.info()"
   ]
  },
  {
   "cell_type": "markdown",
   "id": "framed-supplier",
   "metadata": {
    "papermill": {
     "duration": 0.021811,
     "end_time": "2021-07-08T14:16:05.146060",
     "exception": false,
     "start_time": "2021-07-08T14:16:05.124249",
     "status": "completed"
    },
    "tags": []
   },
   "source": [
    "Now save the DataFrame with the embeddings."
   ]
  },
  {
   "cell_type": "code",
   "execution_count": 16,
   "id": "deluxe-prisoner",
   "metadata": {
    "execution": {
     "iopub.execute_input": "2021-07-08T14:16:05.196073Z",
     "iopub.status.busy": "2021-07-08T14:16:05.195143Z",
     "iopub.status.idle": "2021-07-08T14:16:07.827785Z",
     "shell.execute_reply": "2021-07-08T14:16:07.826668Z",
     "shell.execute_reply.started": "2021-07-08T13:18:59.833070Z"
    },
    "papermill": {
     "duration": 2.659562,
     "end_time": "2021-07-08T14:16:07.828000",
     "exception": false,
     "start_time": "2021-07-08T14:16:05.168438",
     "status": "completed"
    },
    "tags": []
   },
   "outputs": [],
   "source": [
    "X_train.to_feather('X_embeds.feather')"
   ]
  },
  {
   "cell_type": "markdown",
   "id": "natural-turner",
   "metadata": {
    "papermill": {
     "duration": 0.022842,
     "end_time": "2021-07-08T14:16:07.873518",
     "exception": false,
     "start_time": "2021-07-08T14:16:07.850676",
     "status": "completed"
    },
    "tags": []
   },
   "source": [
    "Now on to modeling. Take a look at [Part 2](https://www.kaggle.com/michelezoccali/lgbm-with-entity-embeddings-part-2)."
   ]
  }
 ],
 "metadata": {
  "kernelspec": {
   "display_name": "Python 3",
   "language": "python",
   "name": "python3"
  },
  "language_info": {
   "codemirror_mode": {
    "name": "ipython",
    "version": 3
   },
   "file_extension": ".py",
   "mimetype": "text/x-python",
   "name": "python",
   "nbconvert_exporter": "python",
   "pygments_lexer": "ipython3",
   "version": "3.7.10"
  },
  "papermill": {
   "default_parameters": {},
   "duration": 99.884779,
   "end_time": "2021-07-08T14:16:09.892369",
   "environment_variables": {},
   "exception": null,
   "input_path": "__notebook__.ipynb",
   "output_path": "__notebook__.ipynb",
   "parameters": {},
   "start_time": "2021-07-08T14:14:30.007590",
   "version": "2.3.3"
  }
 },
 "nbformat": 4,
 "nbformat_minor": 5
}
